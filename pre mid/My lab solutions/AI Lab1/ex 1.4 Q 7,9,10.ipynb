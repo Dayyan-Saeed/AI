{
 "cells": [
  {
   "cell_type": "code",
   "execution_count": 6,
   "id": "0460933d",
   "metadata": {},
   "outputs": [
    {
     "name": "stdout",
     "output_type": "stream",
     "text": [
      "Enter the size of square matrices: 2\n",
      "Enter elements for 2x2 matrix:\n",
      "1 2\n",
      "2 1\n",
      "Enter elements for 2x2 matrix:\n",
      "2 1\n",
      "1 2\n",
      "Resultant matrix after addition:\n",
      "3 3\n",
      "3 3\n"
     ]
    }
   ],
   "source": [
    "#Q7\n",
    "def read_matrix(size):\n",
    "    matrix = []\n",
    "    print(f\"Enter elements for {size}x{size} matrix:\")\n",
    "    for i in range(size):\n",
    "        row = list(map(int, input().split()))\n",
    "        matrix.append(row)\n",
    "    return matrix\n",
    "\n",
    "def add_matrices(matrix1, matrix2):\n",
    "    result = []\n",
    "    size = len(matrix1)\n",
    "    for i in range(size):\n",
    "        row = []\n",
    "        for j in range(size):\n",
    "            row.append(matrix1[i][j] + matrix2[i][j])\n",
    "        result.append(row)\n",
    "    return result\n",
    "\n",
    "def print_matrix(matrix):\n",
    "    for row in matrix:\n",
    "        print(\" \".join(map(str, row)))\n",
    "\n",
    "def main():\n",
    "    size = int(input(\"Enter the size of square matrices: \"))\n",
    "\n",
    "    matrix1 = read_matrix(size)\n",
    "    matrix2 = read_matrix(size)\n",
    "\n",
    "    result = add_matrices(matrix1, matrix2)\n",
    "\n",
    "    print(\"Resultant matrix after addition:\")\n",
    "    print_matrix(result)\n",
    "\n",
    "if __name__ == \"__main__\":\n",
    "    main()\n",
    "\n"
   ]
  },
  {
   "cell_type": "code",
   "execution_count": 8,
   "id": "254adb24",
   "metadata": {},
   "outputs": [
    {
     "name": "stdout",
     "output_type": "stream",
     "text": [
      "8\n",
      "15\n",
      "2\n",
      "5\n"
     ]
    }
   ],
   "source": [
    "#Q9\n",
    "def calculator(num1, num2, operation='addition', output_format='floating'):\n",
    "   \n",
    "    if not isinstance(num1, (int, float)) or not isinstance(num2, (int, float)):\n",
    "        raise ValueError(\"Both numbers must be integers or floats\")\n",
    "\n",
    "    \n",
    "    valid_operations = ['addition', 'subtraction', 'multiplication', 'division']\n",
    "    if operation not in valid_operations:\n",
    "        raise ValueError(\"Invalid operation. Choose from: addition, subtraction, multiplication, division\")\n",
    "\n",
    "   \n",
    "    valid_formats = ['integer', 'floating']\n",
    "    if output_format not in valid_formats:\n",
    "        raise ValueError(\"Invalid output format. Choose from: integer, floating\")\n",
    "\n",
    "    \n",
    "    if operation == 'addition':\n",
    "        result = num1 + num2\n",
    "    elif operation == 'subtraction':\n",
    "        result = num1 - num2\n",
    "    elif operation == 'multiplication':\n",
    "        result = num1 * num2\n",
    "    else:  # division\n",
    "        if num2 == 0:\n",
    "            raise ValueError(\"Division by zero is not allowed\")\n",
    "        result = num1 / num2\n",
    "\n",
    "   \n",
    "    if output_format == 'integer':\n",
    "        result = round(result)\n",
    "\n",
    "    return result\n",
    "\n",
    "\n",
    "try:\n",
    "    print(calculator(5, 3))  \n",
    "    print(calculator(5, 3, 'multiplication'))  \n",
    "    print(calculator(5, 3, 'division', 'integer')) \n",
    "    print(calculator(5, 0)) \n",
    "except ValueError as e:\n",
    "    print(e)\n"
   ]
  },
  {
   "cell_type": "code",
   "execution_count": 9,
   "id": "10440260",
   "metadata": {},
   "outputs": [
    {
     "name": "stdout",
     "output_type": "stream",
     "text": [
      "8\n",
      "70\n",
      "7\n",
      "(3, 5)\n",
      "(6, 8)\n"
     ]
    }
   ],
   "source": [
    "#Q10\n",
    "class Numbers:\n",
    "    MULTIPLIER = 10 \n",
    "\n",
    "    def __init__(self, x, y):\n",
    "        self._x = x\n",
    "        self._y = y\n",
    "\n",
    "    def add(self):\n",
    "        return self._x + self._y\n",
    "\n",
    "    @classmethod\n",
    "    def multiply(cls, a):\n",
    "        return a * cls.MULTIPLIER\n",
    "\n",
    "    @staticmethod\n",
    "    def subtract(b, c):\n",
    "        return b - c\n",
    "\n",
    "    @property\n",
    "    def value(self):\n",
    "        return self._x, self._y\n",
    "\n",
    "    @value.setter\n",
    "    def value(self, values):\n",
    "        self._x, self._y = values\n",
    "\n",
    "    @value.deleter\n",
    "    def value(self):\n",
    "        del self._x\n",
    "        del self._y\n",
    "\n",
    "\n",
    "numbers = Numbers(3, 5)\n",
    "print(numbers.add())  \n",
    "print(Numbers.multiply(7))  \n",
    "print(Numbers.subtract(10, 3))  \n",
    "print(numbers.value)  \n",
    "numbers.value = (6, 8)\n",
    "print(numbers.value)  \n",
    "del numbers.value\n",
    "\n"
   ]
  },
  {
   "cell_type": "code",
   "execution_count": null,
   "id": "eb4a771e",
   "metadata": {},
   "outputs": [],
   "source": []
  }
 ],
 "metadata": {
  "kernelspec": {
   "display_name": "Python 3 (ipykernel)",
   "language": "python",
   "name": "python3"
  },
  "language_info": {
   "codemirror_mode": {
    "name": "ipython",
    "version": 3
   },
   "file_extension": ".py",
   "mimetype": "text/x-python",
   "name": "python",
   "nbconvert_exporter": "python",
   "pygments_lexer": "ipython3",
   "version": "3.9.13"
  }
 },
 "nbformat": 4,
 "nbformat_minor": 5
}
