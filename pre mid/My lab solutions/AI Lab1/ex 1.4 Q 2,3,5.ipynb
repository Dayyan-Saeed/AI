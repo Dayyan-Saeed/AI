{
 "cells": [
  {
   "cell_type": "code",
   "execution_count": 8,
   "id": "56c3d55d",
   "metadata": {},
   "outputs": [
    {
     "name": "stdout",
     "output_type": "stream",
     "text": [
      "CXV\n"
     ]
    }
   ],
   "source": [
    "#Q2\n",
    "class IntegerToRoman:\n",
    "    def __init__(self):\n",
    "        self.numeral_map = {\n",
    "            1: 'I', 4: 'IV', 5: 'V', 9: 'IX', 10: 'X', 40: 'XL',\n",
    "            50: 'L', 90: 'XC', 100: 'C', 400: 'CD', 500: 'D', 900: 'CM', 1000: 'M'\n",
    "        }\n",
    "        self.sorted_keys = sorted(self.numeral_map.keys(), reverse=True)\n",
    "\n",
    "    def int_to_roman(self, num):\n",
    "        roman_numeral = ''\n",
    "        for key in self.sorted_keys:\n",
    "            while num >= key:\n",
    "                roman_numeral += self.numeral_map[key]\n",
    "                num -= key\n",
    "        return roman_numeral\n",
    "\n",
    "converter = IntegerToRoman()\n",
    "print(converter.int_to_roman(115)) \n"
   ]
  },
  {
   "cell_type": "code",
   "execution_count": 5,
   "id": "f854383a",
   "metadata": {},
   "outputs": [
    {
     "name": "stdout",
     "output_type": "stream",
     "text": [
      "[2, 3]\n"
     ]
    }
   ],
   "source": [
    "#Q3\n",
    "class TwoSum:\n",
    "    def find_indices(self, numbers, target):\n",
    "        num_indices = {}\n",
    "        for i in range(len(numbers)):\n",
    "            num = numbers[i]\n",
    "            complement = target - num\n",
    "            if complement in num_indices:\n",
    "                return [num_indices[complement], i]\n",
    "            num_indices[num] = i\n",
    "        return None\n",
    "\n",
    "two_sum = TwoSum()\n",
    "numbers = [10, 20, 10, 40, 50, 60, 70]\n",
    "target = 50\n",
    "print(two_sum.find_indices(numbers, target))  \n"
   ]
  },
  {
   "cell_type": "code",
   "execution_count": 10,
   "id": "12a6e335",
   "metadata": {},
   "outputs": [
    {
     "name": "stdout",
     "output_type": "stream",
     "text": [
      ".py hello\n"
     ]
    }
   ],
   "source": [
    "#Q5\n",
    "class ReverseString:\n",
    "    def reverse_words(self, input_string):\n",
    "       \n",
    "        words = input_string.split()\n",
    "       \n",
    "        reversed_words = words[::-1]\n",
    "\n",
    "        reversed_string = ' '.join(reversed_words)\n",
    "\n",
    "        return reversed_string\n",
    "\n",
    "reverse_string = ReverseString()\n",
    "input_string = 'hello .py'\n",
    "print(reverse_string.reverse_words(input_string)) \n"
   ]
  },
  {
   "cell_type": "code",
   "execution_count": null,
   "id": "53ddaa0c",
   "metadata": {},
   "outputs": [],
   "source": []
  }
 ],
 "metadata": {
  "kernelspec": {
   "display_name": "Python 3 (ipykernel)",
   "language": "python",
   "name": "python3"
  },
  "language_info": {
   "codemirror_mode": {
    "name": "ipython",
    "version": 3
   },
   "file_extension": ".py",
   "mimetype": "text/x-python",
   "name": "python",
   "nbconvert_exporter": "python",
   "pygments_lexer": "ipython3",
   "version": "3.9.13"
  }
 },
 "nbformat": 4,
 "nbformat_minor": 5
}
