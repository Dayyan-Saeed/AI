{
 "cells": [
  {
   "cell_type": "code",
   "execution_count": 1,
   "id": "43918c08",
   "metadata": {},
   "outputs": [
    {
     "name": "stdout",
     "output_type": "stream",
     "text": [
      "8\n"
     ]
    }
   ],
   "source": [
    "def cube(n):\n",
    "    return n ** 3\n",
    "\n",
    "print(cube(2)) \n"
   ]
  },
  {
   "cell_type": "code",
   "execution_count": 2,
   "id": "4a320843",
   "metadata": {},
   "outputs": [
    {
     "name": "stdout",
     "output_type": "stream",
     "text": [
      "24\n"
     ]
    }
   ],
   "source": [
    "def factorial(n):\n",
    "    if n == 0:\n",
    "        return 1\n",
    "    else:\n",
    "        result = 1\n",
    "        for i in range(1, n + 1):\n",
    "            result *= i\n",
    "        return result\n",
    "\n",
    "print(factorial(4))\n"
   ]
  },
  {
   "cell_type": "code",
   "execution_count": 3,
   "id": "569fae89",
   "metadata": {},
   "outputs": [
    {
     "name": "stdout",
     "output_type": "stream",
     "text": [
      "2\n",
      "3\n"
     ]
    }
   ],
   "source": [
    "def count_pattern(pattern, lst):\n",
    "    count = 0\n",
    "    pattern_length = len(pattern)\n",
    "    for i in range(len(lst) - pattern_length + 1):\n",
    "        if lst[i:i + pattern_length] == pattern:\n",
    "            count += 1\n",
    "    return count\n",
    "\n",
    "print(count_pattern(('a', 'b'), ('a', 'b', 'c', 'e', 'b', 'a', 'b', 'f'))) \n",
    "print(count_pattern(('a', 'b', 'a'), ('g', 'a', 'b', 'a', 'b', 'a', 'b', 'a')))  \n"
   ]
  },
  {
   "cell_type": "code",
   "execution_count": 4,
   "id": "46160771",
   "metadata": {},
   "outputs": [
    {
     "name": "stdout",
     "output_type": "stream",
     "text": [
      "3 x 1 = 3\n",
      "3 x 2 = 6\n",
      "3 x 3 = 9\n",
      "3 x 4 = 12\n",
      "3 x 5 = 15\n",
      "3 x 6 = 18\n",
      "3 x 7 = 21\n",
      "3 x 8 = 24\n",
      "3 x 9 = 27\n",
      "3 x 10 = 30\n"
     ]
    }
   ],
   "source": [
    "def multiplication_table(number):\n",
    "    for i in range(1, 11):\n",
    "        print(number, \"x\", i, \"=\", number * i)\n",
    "\n",
    "multiplication_table(3)\n"
   ]
  },
  {
   "cell_type": "code",
   "execution_count": 5,
   "id": "86c8a2bd",
   "metadata": {},
   "outputs": [
    {
     "name": "stdout",
     "output_type": "stream",
     "text": [
      "Simple Calculator Program\n",
      "Options:\n",
      "Enter '+' for addition\n",
      "Enter '-' for subtraction\n",
      "Enter '*' for multiplication\n",
      "Enter '/' for division\n",
      "Enter 'quit' to end the program\n",
      "Enter choice: +\n",
      "Enter first number: 3\n",
      "Enter second number: 5\n",
      "Result: 8.0\n",
      "Options:\n",
      "Enter '+' for addition\n",
      "Enter '-' for subtraction\n",
      "Enter '*' for multiplication\n",
      "Enter '/' for division\n",
      "Enter 'quit' to end the program\n",
      "Enter choice: quit\n"
     ]
    }
   ],
   "source": [
    "def simple_calculator():\n",
    "    \n",
    "    print(\"Simple Calculator Program\")\n",
    "    while True:\n",
    "        print(\"Options:\")\n",
    "        print(\"Enter '+' for addition\")\n",
    "        print(\"Enter '-' for subtraction\")\n",
    "        print(\"Enter '*' for multiplication\")\n",
    "        print(\"Enter '/' for division\")\n",
    "        print(\"Enter 'quit' to end the program\")\n",
    "        choice = input(\"Enter choice: \")\n",
    "\n",
    "        if choice == 'quit':\n",
    "            break\n",
    "\n",
    "        if choice in ['+', '-', '*', '/']:\n",
    "            num1 = float(input(\"Enter first number: \"))\n",
    "            num2 = float(input(\"Enter second number: \"))\n",
    "\n",
    "            if choice == '+':\n",
    "                print(\"Result:\", num1 + num2)\n",
    "            elif choice == '-':\n",
    "                print(\"Result:\", num1 - num2)\n",
    "            elif choice == '*':\n",
    "                print(\"Result:\", num1 * num2)\n",
    "            elif choice == '/':\n",
    "                if num2 == 0:\n",
    "                    print(\"Error! Division by zero.\")\n",
    "                else:\n",
    "                    print(\"Result:\", num1 / num2)\n",
    "        else:\n",
    "            print(\"Invalid input!\")\n",
    "\n",
    "simple_calculator()\n"
   ]
  },
  {
   "cell_type": "code",
   "execution_count": 10,
   "id": "dd006708",
   "metadata": {},
   "outputs": [
    {
     "name": "stdout",
     "output_type": "stream",
     "text": [
      "AI This is lab\n"
     ]
    }
   ],
   "source": [
    "def sort_sentence(sentence):\n",
    "    words = sentence.split()\n",
    "    words.sort()\n",
    "    sorted_sentence = ' '.join(words)\n",
    "    return sorted_sentence\n",
    "\n",
    "sentence = \"This is AI lab\"\n",
    "print(sort_sentence(sentence))\n"
   ]
  },
  {
   "cell_type": "code",
   "execution_count": null,
   "id": "2529a7dd",
   "metadata": {},
   "outputs": [],
   "source": []
  }
 ],
 "metadata": {
  "kernelspec": {
   "display_name": "Python 3 (ipykernel)",
   "language": "python",
   "name": "python3"
  },
  "language_info": {
   "codemirror_mode": {
    "name": "ipython",
    "version": 3
   },
   "file_extension": ".py",
   "mimetype": "text/x-python",
   "name": "python",
   "nbconvert_exporter": "python",
   "pygments_lexer": "ipython3",
   "version": "3.9.13"
  }
 },
 "nbformat": 4,
 "nbformat_minor": 5
}
