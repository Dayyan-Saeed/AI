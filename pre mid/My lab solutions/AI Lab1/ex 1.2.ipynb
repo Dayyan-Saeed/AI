{
 "cells": [
  {
   "cell_type": "code",
   "execution_count": 1,
   "id": "f25f8630",
   "metadata": {},
   "outputs": [
    {
     "name": "stdout",
     "output_type": "stream",
     "text": [
      "vanilla ice cream sundae with caramel sauce\n",
      "vanilla ice cream sundae with butterscotch sauce\n",
      "vanilla ice cream sundae with chocolate sauce\n",
      "chocolate ice cream sundae with caramel sauce\n",
      "chocolate ice cream sundae with butterscotch sauce\n",
      "chocolate ice cream sundae with chocolate sauce\n",
      "strawberry ice cream sundae with caramel sauce\n",
      "strawberry ice cream sundae with butterscotch sauce\n",
      "strawberry ice cream sundae with chocolate sauce\n",
      "pistacchio ice cream sundae with caramel sauce\n",
      "pistacchio ice cream sundae with butterscotch sauce\n",
      "pistacchio ice cream sundae with chocolate sauce\n",
      "Total number of combinations: 12\n"
     ]
    }
   ],
   "source": [
    "def sundaes():\n",
    "    flavors = [\"vanilla\", \"chocolate\", \"strawberry\", \"pistacchio\"]\n",
    "    sauces = [\"caramel\", \"butterscotch\", \"chocolate\"]\n",
    "    count = 0\n",
    "    \n",
    "    for flavor in flavors:\n",
    "        for sauce in sauces:\n",
    "            print(flavor + \" ice cream sundae with \" + sauce + \" sauce\")\n",
    "            count += 1\n",
    "    \n",
    "    return count\n",
    "\n",
    "total_combinations = sundaes()\n",
    "print(\"Total number of combinations:\", total_combinations)\n"
   ]
  },
  {
   "cell_type": "code",
   "execution_count": null,
   "id": "92174c46",
   "metadata": {},
   "outputs": [],
   "source": []
  }
 ],
 "metadata": {
  "kernelspec": {
   "display_name": "Python 3 (ipykernel)",
   "language": "python",
   "name": "python3"
  },
  "language_info": {
   "codemirror_mode": {
    "name": "ipython",
    "version": 3
   },
   "file_extension": ".py",
   "mimetype": "text/x-python",
   "name": "python",
   "nbconvert_exporter": "python",
   "pygments_lexer": "ipython3",
   "version": "3.9.13"
  }
 },
 "nbformat": 4,
 "nbformat_minor": 5
}
