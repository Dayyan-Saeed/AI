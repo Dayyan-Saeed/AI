{
 "cells": [
  {
   "cell_type": "code",
   "execution_count": 1,
   "id": "277c4345",
   "metadata": {},
   "outputs": [
    {
     "name": "stdout",
     "output_type": "stream",
     "text": [
      "1\n",
      "2 3\n",
      "4 5 6\n",
      "7 8 9 10\n",
      "11 12 13 14 15\n",
      "16 17 18 19 20 21\n",
      "22 23 24 25 26 27 28\n",
      "29 30 31 32 33 34 35 36\n",
      "37 38 39 40 41 42 43 44 45\n",
      "46 47 48 49 50 51 52 53 54 55\n"
     ]
    }
   ],
   "source": [
    "def triangle():\n",
    "    value = 1\n",
    "    row = 1\n",
    "    while row <= 10: \n",
    "        column = 1\n",
    "        while column <= row:  \n",
    "            if column != row:  \n",
    "                print(value, ' ', sep='', end='')\n",
    "            else:\n",
    "                print(value)\n",
    "            value = value + 1\n",
    "            column = column + 1\n",
    "        row = row + 1\n",
    "\n",
    "triangle()\n"
   ]
  },
  {
   "cell_type": "code",
   "execution_count": null,
   "id": "24a38fca",
   "metadata": {},
   "outputs": [],
   "source": []
  }
 ],
 "metadata": {
  "kernelspec": {
   "display_name": "Python 3 (ipykernel)",
   "language": "python",
   "name": "python3"
  },
  "language_info": {
   "codemirror_mode": {
    "name": "ipython",
    "version": 3
   },
   "file_extension": ".py",
   "mimetype": "text/x-python",
   "name": "python",
   "nbconvert_exporter": "python",
   "pygments_lexer": "ipython3",
   "version": "3.9.13"
  }
 },
 "nbformat": 4,
 "nbformat_minor": 5
}
