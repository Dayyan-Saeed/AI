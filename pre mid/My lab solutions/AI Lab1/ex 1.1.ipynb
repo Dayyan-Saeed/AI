{
 "cells": [
  {
   "cell_type": "code",
   "execution_count": 7,
   "id": "2f70e976",
   "metadata": {},
   "outputs": [
    {
     "name": "stdout",
     "output_type": "stream",
     "text": [
      "250\n",
      "3\n",
      "250.0\n",
      "300000.0\n",
      "300000\n",
      "90\n",
      "2.0\n",
      "0\n",
      "6\n"
     ]
    }
   ],
   "source": [
    "a = 250\n",
    "print(a)  \n",
    "\n",
    "b = 28 % 5\n",
    "print(b)  \n",
    "\n",
    "c = 2.5e2\n",
    "print(c)  \n",
    "\n",
    "d = 3e5\n",
    "print(d)  \n",
    "\n",
    "e = 3 * 10**5\n",
    "print(e)  \n",
    "\n",
    "f = 20 + 35 * 2\n",
    "print(f)  \n",
    "\n",
    "# (20 + 35) * 2 is different because addition is performed first due to brackets. \n",
    "\n",
    "g = 2 / 3 * 3\n",
    "print(g)  \n",
    "\n",
    "# In 2 / 3 * 3, division is performed then multiplication.\n",
    "\n",
    "h = 2 // 3 * 3\n",
    "print(h) \n",
    "\n",
    "# In the expression 2 // 3 * 3, integer division is performed first,\n",
    "\n",
    "i = 25 - 5 * 2 - 9\n",
    "print(i)  \n",
    "\n",
    "# This is different from ((25 - 5) * 2) - 9 and 25 - ((5 * 2) - 9).\n",
    "# In 25 - 5 * 2 - 9, no brackets are placed so multiplication and subtraction are performed from left to right.\n",
    "\n"
   ]
  },
  {
   "cell_type": "code",
   "execution_count": null,
   "id": "dfcf5266",
   "metadata": {},
   "outputs": [],
   "source": []
  }
 ],
 "metadata": {
  "kernelspec": {
   "display_name": "Python 3 (ipykernel)",
   "language": "python",
   "name": "python3"
  },
  "language_info": {
   "codemirror_mode": {
    "name": "ipython",
    "version": 3
   },
   "file_extension": ".py",
   "mimetype": "text/x-python",
   "name": "python",
   "nbconvert_exporter": "python",
   "pygments_lexer": "ipython3",
   "version": "3.9.13"
  }
 },
 "nbformat": 4,
 "nbformat_minor": 5
}
