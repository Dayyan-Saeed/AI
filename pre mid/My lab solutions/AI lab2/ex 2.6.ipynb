{
 "cells": [
  {
   "cell_type": "code",
   "execution_count": 1,
   "id": "253bf51b",
   "metadata": {},
   "outputs": [
    {
     "name": "stdout",
     "output_type": "stream",
     "text": [
      "First three elements of c: [1, 3, 5]\n",
      "Last element of d: 10\n",
      "Length of d: 7\n"
     ]
    }
   ],
   "source": [
    "# 1: Create lists a and b\n",
    "a = [1, 3, 5]  # odd positive integers\n",
    "b = [2, 4, 6]  # even positive integers\n",
    "\n",
    "# 2: Combine lists a and b into list c\n",
    "c = a + b\n",
    "\n",
    "# 3: Create a sorted copy of c\n",
    "d = sorted(c)\n",
    "\n",
    "# 4: Reverse d in-place\n",
    "d.reverse()\n",
    "\n",
    "# 5: Set the fourth element of c to 42\n",
    "c[3] = 42\n",
    "\n",
    "# 6: Append 10 to the end of d\n",
    "d.append(10)\n",
    "\n",
    "# 7: Append 7, 8, and 9 to the end of c\n",
    "c.extend([7, 8, 9])\n",
    "\n",
    "# 8: Print the first three elements of c\n",
    "print(\"First three elements of c:\", c[:3])\n",
    "\n",
    "# 9: Print the last element of d without using its length\n",
    "print(\"Last element of d:\", d[-1])\n",
    "\n",
    "# 10: Print the length of d\n",
    "print(\"Length of d:\", len(d))\n"
   ]
  },
  {
   "cell_type": "code",
   "execution_count": null,
   "id": "22d5ad89",
   "metadata": {},
   "outputs": [],
   "source": []
  }
 ],
 "metadata": {
  "kernelspec": {
   "display_name": "Python 3 (ipykernel)",
   "language": "python",
   "name": "python3"
  },
  "language_info": {
   "codemirror_mode": {
    "name": "ipython",
    "version": 3
   },
   "file_extension": ".py",
   "mimetype": "text/x-python",
   "name": "python",
   "nbconvert_exporter": "python",
   "pygments_lexer": "ipython3",
   "version": "3.9.13"
  }
 },
 "nbformat": 4,
 "nbformat_minor": 5
}
