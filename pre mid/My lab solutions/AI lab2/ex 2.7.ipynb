{
 "cells": [
  {
   "cell_type": "code",
   "execution_count": 1,
   "id": "9cb44e74",
   "metadata": {},
   "outputs": [
    {
     "name": "stdout",
     "output_type": "stream",
     "text": [
      "Second element of the second tuple in a: 3\n",
      "Last two elements of the first list in b: [3, 4]\n"
     ]
    }
   ],
   "source": [
    "# 1: \n",
    "a = [(1,), (2, 3), (4, 5, 6)]\n",
    "\n",
    "# 2: \n",
    "print(\"Second element of the second tuple in a:\", a[1][1])\n",
    "\n",
    "# 3:\n",
    "b = [[1, 2, 3, 4], [5, 6, 7, 8], [9, 10, 11, 12], [13, 14, 15, 16]]\n",
    "\n",
    "# 4: \n",
    "print(\"Last two elements of the first list in b:\", b[0][-2:])\n"
   ]
  },
  {
   "cell_type": "code",
   "execution_count": null,
   "id": "de7f2ab1",
   "metadata": {},
   "outputs": [],
   "source": []
  }
 ],
 "metadata": {
  "kernelspec": {
   "display_name": "Python 3 (ipykernel)",
   "language": "python",
   "name": "python3"
  },
  "language_info": {
   "codemirror_mode": {
    "name": "ipython",
    "version": 3
   },
   "file_extension": ".py",
   "mimetype": "text/x-python",
   "name": "python",
   "nbconvert_exporter": "python",
   "pygments_lexer": "ipython3",
   "version": "3.9.13"
  }
 },
 "nbformat": 4,
 "nbformat_minor": 5
}
