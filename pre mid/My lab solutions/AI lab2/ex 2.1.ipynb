{
 "cells": [
  {
   "cell_type": "code",
   "execution_count": 4,
   "id": "dfac3996",
   "metadata": {},
   "outputs": [
    {
     "name": "stdout",
     "output_type": "stream",
     "text": [
      "Original list: [5, 3, 8, 4, 2, 7, 1, 6]\n",
      "Step 1 : [1, 3, 8, 4, 2, 7, 5, 6]\n",
      "Step 2 : [1, 2, 8, 4, 3, 7, 5, 6]\n",
      "Step 3 : [1, 2, 3, 4, 8, 7, 5, 6]\n",
      "Step 4 : [1, 2, 3, 4, 8, 7, 5, 6]\n",
      "Step 5 : [1, 2, 3, 4, 5, 7, 8, 6]\n",
      "Step 6 : [1, 2, 3, 4, 5, 6, 8, 7]\n",
      "Step 7 : [1, 2, 3, 4, 5, 6, 7, 8]\n",
      "Step 8 : [1, 2, 3, 4, 5, 6, 7, 8]\n",
      "Sorted list: [1, 2, 3, 4, 5, 6, 7, 8]\n"
     ]
    }
   ],
   "source": [
    "def selection_sort(items):\n",
    "    \n",
    "    \"\"\"Sorts a list of items into ascending order using the selection sort algoright.\"\"\"\n",
    "    for step in range(len(items)):\n",
    "        # Find the location of the smallest element in items[step:].\n",
    "        location_of_smallest = step\n",
    "        for location in range(step, len(items)):\n",
    "            \n",
    "            # Determine location of smallest\n",
    "            if items[location] < items[location_of_smallest]:\n",
    "                location_of_smallest = location\n",
    "\n",
    "        # Exchange items[step] with items[location_of_smallest]\n",
    "        items[step], items[location_of_smallest] = items[location_of_smallest], items[step]\n",
    "        \n",
    "        # Print the current state of the list after each iteration\n",
    "        print(\"Step\", step + 1, \":\", items)\n",
    "\n",
    "\n",
    "my_list = [5, 3, 8, 4, 2, 7, 1, 6]\n",
    "print(\"Original list:\", my_list)\n",
    "selection_sort(my_list)\n",
    "print(\"Sorted list:\", my_list)\n"
   ]
  },
  {
   "cell_type": "code",
   "execution_count": null,
   "id": "084463ae",
   "metadata": {},
   "outputs": [],
   "source": []
  }
 ],
 "metadata": {
  "kernelspec": {
   "display_name": "Python 3 (ipykernel)",
   "language": "python",
   "name": "python3"
  },
  "language_info": {
   "codemirror_mode": {
    "name": "ipython",
    "version": 3
   },
   "file_extension": ".py",
   "mimetype": "text/x-python",
   "name": "python",
   "nbconvert_exporter": "python",
   "pygments_lexer": "ipython3",
   "version": "3.9.13"
  }
 },
 "nbformat": 4,
 "nbformat_minor": 5
}
