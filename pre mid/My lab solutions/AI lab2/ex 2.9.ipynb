{
 "cells": [
  {
   "cell_type": "code",
   "execution_count": 4,
   "id": "30b84083",
   "metadata": {},
   "outputs": [
    {
     "name": "stdout",
     "output_type": "stream",
     "text": [
      "Time taken to find 100000: 0.0 seconds\n",
      "Time taken to find 200000: 0.011307477951049805 seconds\n",
      "Time taken to find 300000: 0.05045723915100098 seconds\n",
      "Time taken to find 3: 0.03325057029724121 seconds\n"
     ]
    }
   ],
   "source": [
    "import time\n",
    "\n",
    "# 1:\n",
    "big_list = list(range(100000, 300001))\n",
    "\n",
    "# 2: \n",
    "def search(integer_list, key):\n",
    "    for i in range(0, len(integer_list)):\n",
    "        if integer_list[i] == key:\n",
    "            return i\n",
    "    return None\n",
    "\n",
    "# 3:\n",
    "def timer(search_func, integer_list, key):\n",
    "    start = time.time()\n",
    "    search_func(integer_list, key)\n",
    "    end = time.time()\n",
    "    return end - start\n",
    "\n",
    "# 4:\n",
    "search_keys = [100000, 200000, 300000, 3]\n",
    "\n",
    "for key in search_keys:\n",
    "    time_taken = timer(search, big_list, key)\n",
    "    print(f\"Time taken to find {key}: {time_taken} seconds\")\n"
   ]
  },
  {
   "cell_type": "code",
   "execution_count": null,
   "id": "4d273bfa",
   "metadata": {},
   "outputs": [],
   "source": []
  },
  {
   "cell_type": "code",
   "execution_count": null,
   "id": "74630838",
   "metadata": {},
   "outputs": [],
   "source": []
  }
 ],
 "metadata": {
  "kernelspec": {
   "display_name": "Python 3 (ipykernel)",
   "language": "python",
   "name": "python3"
  },
  "language_info": {
   "codemirror_mode": {
    "name": "ipython",
    "version": 3
   },
   "file_extension": ".py",
   "mimetype": "text/x-python",
   "name": "python",
   "nbconvert_exporter": "python",
   "pygments_lexer": "ipython3",
   "version": "3.9.13"
  }
 },
 "nbformat": 4,
 "nbformat_minor": 5
}
